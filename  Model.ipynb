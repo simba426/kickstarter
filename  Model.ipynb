{
 "cells": [
  {
   "cell_type": "code",
   "execution_count": 1,
   "metadata": {
    "collapsed": true
   },
   "outputs": [],
   "source": [
    "import pandas as pd\n",
    "import numpy as np\n",
    "import matplotlib.pyplot as plt\n",
    "import seaborn as sns\n",
    "\n",
    "%matplotlib inline"
   ]
  },
  {
   "cell_type": "code",
   "execution_count": 2,
   "metadata": {},
   "outputs": [
    {
     "name": "stdout",
     "output_type": "stream",
     "text": [
      "<class 'pandas.core.frame.DataFrame'>\n",
      "RangeIndex: 17751 entries, 0 to 17750\n",
      "Data columns (total 30 columns):\n",
      "Name                              17751 non-null object\n",
      "Currency                          17751 non-null object\n",
      "Top Category                      17751 non-null object\n",
      "Category                          17751 non-null object\n",
      "Updates                           17751 non-null int64\n",
      "Comments                          17751 non-null int64\n",
      "Rewards                           17751 non-null int64\n",
      "Goal                              17751 non-null float64\n",
      "Pledged                           17751 non-null float64\n",
      "Backers                           17751 non-null int64\n",
      "Start                             17751 non-null object\n",
      "End                               17751 non-null object\n",
      "Duration in Days                  17751 non-null int64\n",
      "Facebook Friends                  17751 non-null int64\n",
      "Facebook Shares                   17751 non-null int64\n",
      "Creator - # Projects Created      17751 non-null int64\n",
      "Creator - # Projects Backed       17751 non-null int64\n",
      "# Videos                          17751 non-null int64\n",
      "# Images                          17751 non-null int64\n",
      "# Words (Description)             17751 non-null int64\n",
      "# Words (Risks and Challenges)    17751 non-null int64\n",
      "# FAQs                            17751 non-null int64\n",
      "r1                                17751 non-null float64\n",
      "r2                                17751 non-null float64\n",
      "r3                                17751 non-null float64\n",
      "f1                                17751 non-null int64\n",
      "f2                                17751 non-null int64\n",
      "f3                                17751 non-null int64\n",
      "Result                            17751 non-null int64\n",
      "Video                             17751 non-null int64\n",
      "dtypes: float64(5), int64(19), object(6)\n",
      "memory usage: 4.1+ MB\n"
     ]
    }
   ],
   "source": [
    "data = pd.read_csv('.//filtered_data2.csv', encoding='gb2312')\n",
    "data.info()\n",
    "\n",
    "features = data.copy()"
   ]
  },
  {
   "cell_type": "code",
   "execution_count": 3,
   "metadata": {},
   "outputs": [
    {
     "data": {
      "text/plain": [
       "False    17603\n",
       "True       148\n",
       "Name: Name, dtype: int64"
      ]
     },
     "execution_count": 3,
     "metadata": {},
     "output_type": "execute_result"
    }
   ],
   "source": [
    "features['Name'].str.contains(r'\\?').value_counts()"
   ]
  },
  {
   "cell_type": "code",
   "execution_count": 4,
   "metadata": {
    "scrolled": false
   },
   "outputs": [
    {
     "data": {
      "text/plain": [
       "False    15931\n",
       "True      1820\n",
       "Name: Name, dtype: int64"
      ]
     },
     "execution_count": 4,
     "metadata": {},
     "output_type": "execute_result"
    }
   ],
   "source": [
    "features['Name'].str.contains('!').value_counts()"
   ]
  },
  {
   "cell_type": "code",
   "execution_count": 5,
   "metadata": {},
   "outputs": [
    {
     "data": {
      "text/plain": [
       "False    11604\n",
       "True      6147\n",
       "Name: Name, dtype: int64"
      ]
     },
     "execution_count": 5,
     "metadata": {},
     "output_type": "execute_result"
    }
   ],
   "source": [
    "features['Name'].str.istitle().value_counts()"
   ]
  },
  {
   "cell_type": "code",
   "execution_count": 6,
   "metadata": {
    "collapsed": true
   },
   "outputs": [],
   "source": [
    "features['result'] = features['Result']\n",
    "\n",
    "features['lenth_chars'] = features['Name'].str.len()\n",
    "\n",
    "features['contains_!'] = pd.get_dummies(features['Name'].str.contains('!'), drop_first=True)\n",
    "\n",
    "features['contains_?'] = pd.get_dummies(features['Name'].str.contains(r'\\?'), drop_first=True)\n",
    "\n",
    "features['contains_title'] = pd.get_dummies(features['Name'].str.istitle(), drop_first=True)"
   ]
  },
  {
   "cell_type": "code",
   "execution_count": 7,
   "metadata": {
    "collapsed": true
   },
   "outputs": [],
   "source": [
    "features['log_goal'] = np.log10(features['Goal'])\n",
    "\n",
    "features['log_pledged'] = np.log10(features['Pledged'])\n",
    "\n",
    "features['duration'] = features['Duration in Days']\n",
    "\n",
    "features['top_category'] = features['Top Category']"
   ]
  },
  {
   "cell_type": "code",
   "execution_count": 8,
   "metadata": {
    "collapsed": true,
    "scrolled": false
   },
   "outputs": [],
   "source": [
    "features['contains_!'] = features['contains_!'].astype('int')\n",
    "features['contains_?'] = features['contains_?'].astype('int')\n",
    "features['contains_title'] = features['contains_title'].astype('int')"
   ]
  },
  {
   "cell_type": "code",
   "execution_count": 9,
   "metadata": {},
   "outputs": [
    {
     "data": {
      "image/png": "[encoded data removed]",
      "text/plain": [
       "<matplotlib.figure.Figure at 0x1a187872b0>"
      ]
     },
     "metadata": {},
     "output_type": "display_data"
    }
   ],
   "source": [
    "sns.heatmap(features.iloc[:, 30: ].corr(), cmap='Blues')\n",
    "\n",
    "plt.title('Heatmap of Kickstarter Feature Correlations')\n",
    "plt.show()"
   ]
  },
  {
   "cell_type": "code",
   "execution_count": 10,
   "metadata": {
    "collapsed": true
   },
   "outputs": [],
   "source": [
    "#features['updates'] = features['Updates']\n",
    "\n",
    "#features['comments'] = features['Comments']\n",
    "\n",
    "#features['faq'] = features['# FAQs']\n",
    "\n",
    "features['rewards'] = features['Rewards']\n",
    "\n",
    "features['fb_friends'] = features['Facebook Friends']\n",
    "\n",
    "features['fb_shares'] = features['Facebook Shares']\n",
    "\n",
    "features['creator_projects_created'] = features['Creator - # Projects Created']\n",
    "\n",
    "features['creator_projects_backed'] = features['Creator - # Projects Backed']\n",
    "\n",
    "features['videos'] = features['# Videos']\n",
    "\n",
    "features['images'] = features['# Images']\n",
    "\n",
    "features['description_words'] = features['# Words (Description)']\n",
    "\n",
    "features['r_c_words'] = features['# Words (Risks and Challenges)']\n"
   ]
  },
  {
   "cell_type": "code",
   "execution_count": 11,
   "metadata": {
    "collapsed": true
   },
   "outputs": [],
   "source": [
    "features['pledged_percent1'] = features['r1'] / features['Goal']\n",
    "\n",
    "features['pledged_percent2'] = features['r2'] / features['Goal']\n",
    "\n",
    "features['pledged_percent3'] = features['r3'] / features['Goal']\n",
    "\n",
    "features['backers1'] = features['f1']\n",
    "\n",
    "features['backers2'] = features['f2']\n",
    "\n",
    "features['backers3'] = features['f3']"
   ]
  },
  {
   "cell_type": "code",
   "execution_count": 12,
   "metadata": {
    "collapsed": true
   },
   "outputs": [],
   "source": [
    "features = pd.get_dummies(features, columns = ['top_category'])"
   ]
  },
  {
   "cell_type": "code",
   "execution_count": 13,
   "metadata": {
    "collapsed": true
   },
   "outputs": [],
   "source": [
    "features.rename(columns={\"top_category_Film & Video\": \"top_category_Film\"}, inplace=True)"
   ]
  },
  {
   "cell_type": "code",
   "execution_count": 14,
   "metadata": {
    "scrolled": true
   },
   "outputs": [
    {
     "name": "stdout",
     "output_type": "stream",
     "text": [
      "<class 'pandas.core.frame.DataFrame'>\n",
      "RangeIndex: 17751 entries, 0 to 17750\n",
      "Data columns (total 38 columns):\n",
      "result                      17751 non-null int64\n",
      "lenth_chars                 17751 non-null int64\n",
      "contains_!                  17751 non-null int64\n",
      "contains_?                  17751 non-null int64\n",
      "contains_title              17751 non-null int64\n",
      "log_goal                    17751 non-null float64\n",
      "log_pledged                 17751 non-null float64\n",
      "duration                    17751 non-null int64\n",
      "rewards                     17751 non-null int64\n",
      "fb_friends                  17751 non-null int64\n",
      "fb_shares                   17751 non-null int64\n",
      "creator_projects_created    17751 non-null int64\n",
      "creator_projects_backed     17751 non-null int64\n",
      "videos                      17751 non-null int64\n",
      "images                      17751 non-null int64\n",
      "description_words           17751 non-null int64\n",
      "r_c_words                   17751 non-null int64\n",
      "pledged_percent1            17751 non-null float64\n",
      "pledged_percent2            17751 non-null float64\n",
      "pledged_percent3            17751 non-null float64\n",
      "backers1                    17751 non-null int64\n",
      "backers2                    17751 non-null int64\n",
      "backers3                    17751 non-null int64\n",
      "top_category_Art            17751 non-null uint8\n",
      "top_category_Comics         17751 non-null uint8\n",
      "top_category_Crafts         17751 non-null uint8\n",
      "top_category_Dance          17751 non-null uint8\n",
      "top_category_Design         17751 non-null uint8\n",
      "top_category_Fashion        17751 non-null uint8\n",
      "top_category_Film           17751 non-null uint8\n",
      "top_category_Food           17751 non-null uint8\n",
      "top_category_Games          17751 non-null uint8\n",
      "top_category_Journalism     17751 non-null uint8\n",
      "top_category_Music          17751 non-null uint8\n",
      "top_category_Photography    17751 non-null uint8\n",
      "top_category_Publishing     17751 non-null uint8\n",
      "top_category_Technology     17751 non-null uint8\n",
      "top_category_Theater        17751 non-null uint8\n",
      "dtypes: float64(5), int64(18), uint8(15)\n",
      "memory usage: 3.4 MB\n"
     ]
    }
   ],
   "source": [
    "features = features.iloc[:, 30:]\n",
    "features.info()"
   ]
  },
  {
   "cell_type": "code",
   "execution_count": 15,
   "metadata": {
    "collapsed": true
   },
   "outputs": [],
   "source": [
    "features = features.drop(['log_pledged'], 1)"
   ]
  },
  {
   "cell_type": "code",
   "execution_count": 16,
   "metadata": {},
   "outputs": [
    {
     "data": {
      "image/png": "[encoded data removed]",
      "text/plain": [
       "<matplotlib.figure.Figure at 0x1a185c1390>"
      ]
     },
     "metadata": {},
     "output_type": "display_data"
    }
   ],
   "source": [
    "sns.heatmap(features.iloc[: , :16].corr(), cmap='Blues')\n",
    "\n",
    "plt.title('Heatmap of Kickstarter Feature Correlations')\n",
    "plt.show()"
   ]
  },
  {
   "cell_type": "markdown",
   "metadata": {},
   "source": [
    "# Classification"
   ]
  },
  {
   "cell_type": "code",
   "execution_count": 17,
   "metadata": {},
   "outputs": [
    {
     "name": "stderr",
     "output_type": "stream",
     "text": [
      "/anaconda3/lib/python3.6/site-packages/sklearn/ensemble/weight_boosting.py:29: DeprecationWarning: numpy.core.umath_tests is an internal NumPy module and should not be imported. It will be removed in a future NumPy release.\n",
      "  from numpy.core.umath_tests import inner1d\n"
     ]
    }
   ],
   "source": [
    "from sklearn import linear_model\n",
    "from sklearn.model_selection import train_test_split\n",
    "from sklearn.preprocessing import StandardScaler\n",
    "from sklearn.decomposition import PCA \n",
    "from sklearn import ensemble\n",
    "from sklearn.model_selection import cross_val_score\n",
    "from sklearn.feature_selection import RFE\n",
    "from sklearn.linear_model import LogisticRegression\n",
    "from sklearn.tree import DecisionTreeClassifier\n",
    "from sklearn.svm import SVC, LinearSVC\n",
    "from sklearn.ensemble import RandomForestClassifier\n",
    "from sklearn.neighbors import KNeighborsClassifier\n",
    "from sklearn.naive_bayes import GaussianNB\n",
    "from sklearn.linear_model import SGDClassifier\n",
    "from sklearn.ensemble import BaggingClassifier\n",
    "from sklearn.neural_network import MLPClassifier\n",
    "from sklearn.ensemble import AdaBoostClassifier\n",
    "from sklearn.ensemble import GradientBoostingClassifier\n",
    "from sklearn.metrics import roc_curve, auc "
   ]
  },
  {
   "cell_type": "markdown",
   "metadata": {},
   "source": [
    "## 1.without category feature & dynamic features"
   ]
  },
  {
   "cell_type": "code",
   "execution_count": 39,
   "metadata": {},
   "outputs": [
    {
     "name": "stdout",
     "output_type": "stream",
     "text": [
      "<class 'pandas.core.frame.DataFrame'>\n",
      "RangeIndex: 17751 entries, 0 to 17750\n",
      "Data columns (total 16 columns):\n",
      "result                      17751 non-null int64\n",
      "lenth_chars                 17751 non-null int64\n",
      "contains_!                  17751 non-null int64\n",
      "contains_?                  17751 non-null int64\n",
      "contains_title              17751 non-null int64\n",
      "log_goal                    17751 non-null float64\n",
      "duration                    17751 non-null int64\n",
      "rewards                     17751 non-null int64\n",
      "fb_friends                  17751 non-null int64\n",
      "fb_shares                   17751 non-null int64\n",
      "creator_projects_created    17751 non-null int64\n",
      "creator_projects_backed     17751 non-null int64\n",
      "videos                      17751 non-null int64\n",
      "images                      17751 non-null int64\n",
      "description_words           17751 non-null int64\n",
      "r_c_words                   17751 non-null int64\n",
      "dtypes: float64(1), int64(15)\n",
      "memory usage: 2.2 MB\n"
     ]
    }
   ],
   "source": [
    "features_1 = features.iloc[: , :16]\n",
    "features_1.info()"
   ]
  },
  {
   "cell_type": "code",
   "execution_count": 19,
   "metadata": {
    "collapsed": true
   },
   "outputs": [],
   "source": [
    "X = features_1.drop(['result'], 1)\n",
    "y = features_1['result']\n",
    "\n",
    "X_train, X_test, y_train, y_test = train_test_split(X, y, test_size=0.3, random_state=0)"
   ]
  },
  {
   "cell_type": "code",
   "execution_count": 20,
   "metadata": {
    "collapsed": true
   },
   "outputs": [],
   "source": [
    "# Logistic Regression\n",
    "lr = LogisticRegression(penalty='l2', solver='liblinear')\n",
    "\n",
    "# Fit the model.\n",
    "lr_fit = lr.fit(X_train, y_train)"
   ]
  },
  {
   "cell_type": "code",
   "execution_count": 21,
   "metadata": {},
   "outputs": [
    {
     "name": "stdout",
     "output_type": "stream",
     "text": [
      "[-2.61073476  0.7577519  -0.26401795 ...  0.14092306  1.24953111\n",
      "  0.23112375]\n",
      "[0 1 0 ... 1 1 1]\n"
     ]
    }
   ],
   "source": [
    "lr_test_y_score = lr_fit.decision_function(X_test)\n",
    "lr_prediction = lr_fit.predict(X_test)\n",
    "print(lr_test_y_score)\n",
    "print(lr_prediction)"
   ]
  },
  {
   "cell_type": "code",
   "execution_count": 22,
   "metadata": {},
   "outputs": [
    {
     "name": "stdout",
     "output_type": "stream",
     "text": [
      "0.8539356709312033\n"
     ]
    }
   ],
   "source": [
    "# Compute ROC curve and ROC area for each class\n",
    "fpr, tpr, threshold = roc_curve(y_test, lr_test_y_score)  ###计算真正率和假正率\n",
    "roc_auc = auc(fpr, tpr)  ###计算auc的值\n",
    "print(roc_auc)"
   ]
  },
  {
   "cell_type": "code",
   "execution_count": 23,
   "metadata": {},
   "outputs": [
    {
     "data": {
      "image/png": "[encoded data removed]",
      "text/plain": [
       "<matplotlib.figure.Figure at 0x1a198a6518>"
      ]
     },
     "metadata": {},
     "output_type": "display_data"
    }
   ],
   "source": [
    "lw = 2\n",
    "plt.figure(figsize=(8, 5))\n",
    "plt.plot(fpr, tpr, color='darkorange',\n",
    "         lw=lw, label='ROC curve (area = %0.2f)' % roc_auc)  ###假正率为横坐标，真正率为纵坐标做曲线\n",
    "plt.plot([0, 1], [0, 1], color='navy', lw=lw, linestyle='--')\n",
    "plt.xlim([0.0, 1.0])\n",
    "plt.ylim([0.0, 1.05])\n",
    "plt.xlabel('False Positive Rate')\n",
    "plt.ylabel('True Positive Rate')\n",
    "plt.title('Receiver operating characteristic example')\n",
    "plt.legend(loc=\"lower right\")\n",
    "plt.show()"
   ]
  },
  {
   "cell_type": "code",
   "execution_count": 24,
   "metadata": {},
   "outputs": [
    {
     "name": "stdout",
     "output_type": "stream",
     "text": [
      "\n",
      " Accuracy by success\n",
      "result     0     1\n",
      "row_0             \n",
      "0       2114   609\n",
      "1        572  2031\n",
      "\n",
      " Percentage accuracy\n",
      "0.7782576042057829\n"
     ]
    }
   ],
   "source": [
    "print('\\n Accuracy by success')\n",
    "print(pd.crosstab(lr_prediction, y_test))\n",
    "\n",
    "print('\\n Percentage accuracy')\n",
    "print(lr.score(X_test, y_test))"
   ]
  },
  {
   "cell_type": "code",
   "execution_count": 25,
   "metadata": {},
   "outputs": [
    {
     "name": "stdout",
     "output_type": "stream",
     "text": [
      "0.8948547039644397\n"
     ]
    },
    {
     "data": {
      "text/plain": [
       "81.62"
      ]
     },
     "execution_count": 25,
     "metadata": {},
     "output_type": "execute_result"
    }
   ],
   "source": [
    "# Random Forest\n",
    "rfc = ensemble.RandomForestClassifier(n_jobs=-1, n_estimators=200)\n",
    "\n",
    "rfc.fit(X_train, y_train)\n",
    "\n",
    "rfc_test_y_score = rfc.predict_proba(X_test)\n",
    "rfc_prediction = rfc.predict(X_test)\n",
    "\n",
    "fpr, tpr, _ = roc_curve(y_test, rfc_test_y_score[:, 1])  ###计算真正率和假正率\n",
    "roc_auc = auc(fpr, tpr)  ###计算auc的值\n",
    "print(roc_auc)\n",
    "\n",
    "acc_rfc = round(rfc.score(X_test, y_test) *100, 2)\n",
    "acc_rfc"
   ]
  },
  {
   "cell_type": "code",
   "execution_count": 28,
   "metadata": {},
   "outputs": [
    {
     "name": "stdout",
     "output_type": "stream",
     "text": [
      "0.7130492847311537\n"
     ]
    },
    {
     "data": {
      "text/plain": [
       "67.56"
      ]
     },
     "execution_count": 28,
     "metadata": {},
     "output_type": "execute_result"
    }
   ],
   "source": [
    "#kNN\n",
    "from sklearn.neighbors import KNeighborsClassifier\n",
    "\n",
    "knn = KNeighborsClassifier(n_neighbors=3, n_jobs=-1)\n",
    "knn.fit(X_train, y_train)\n",
    "\n",
    "knn_test_y_score = knn.predict_proba(X_test)\n",
    "knn_prediction = knn.predict(X_test)\n",
    "\n",
    "fpr, tpr, _ = roc_curve(y_test, knn_test_y_score[:, 1])  ###计算真正率和假正率\n",
    "roc_auc = auc(fpr, tpr)  ###计算auc的值\n",
    "print(roc_auc)\n",
    "\n",
    "acc_neigh = round(knn.score(X_test, y_test) *100, 2)\n",
    "acc_neigh"
   ]
  },
  {
   "cell_type": "code",
   "execution_count": 29,
   "metadata": {},
   "outputs": [
    {
     "name": "stdout",
     "output_type": "stream",
     "text": [
      "0.8987537089058868\n"
     ]
    },
    {
     "data": {
      "text/plain": [
       "81.84"
      ]
     },
     "execution_count": 29,
     "metadata": {},
     "output_type": "execute_result"
    }
   ],
   "source": [
    "#Gradient Boosting Classifier\n",
    "clf_gb = GradientBoostingClassifier(n_estimators=500, \n",
    "                                 max_depth=1, \n",
    "                                 random_state=0)\n",
    "clf_gb.fit(X_train, y_train)\n",
    "\n",
    "gbdt_test_y_score = clf_gb.predict_proba(X_test)\n",
    "gbdt_prediction = clf_gb.predict(X_test)\n",
    "\n",
    "fpr, tpr, _ = roc_curve(y_test, gbdt_test_y_score[:, 1])  ###计算真正率和假正率\n",
    "roc_auc = auc(fpr, tpr)  ###计算auc的值\n",
    "print(roc_auc)\n",
    "\n",
    "acc_clf_gb = round(clf_gb.score(X_test, y_test) * 100, 2)\n",
    "acc_clf_gb"
   ]
  },
  {
   "cell_type": "markdown",
   "metadata": {
    "collapsed": true
   },
   "source": [
    "## 2.with category data"
   ]
  },
  {
   "cell_type": "code",
   "execution_count": 77,
   "metadata": {},
   "outputs": [
    {
     "name": "stdout",
     "output_type": "stream",
     "text": [
      "<class 'pandas.core.frame.DataFrame'>\n",
      "RangeIndex: 17751 entries, 0 to 17750\n",
      "Data columns (total 31 columns):\n",
      "result                      17751 non-null int64\n",
      "lenth_chars                 17751 non-null int64\n",
      "contains_!                  17751 non-null int64\n",
      "contains_?                  17751 non-null int64\n",
      "contains_title              17751 non-null int64\n",
      "log_goal                    17751 non-null float64\n",
      "duration                    17751 non-null int64\n",
      "rewards                     17751 non-null int64\n",
      "fb_friends                  17751 non-null int64\n",
      "fb_shares                   17751 non-null int64\n",
      "creator_projects_created    17751 non-null int64\n",
      "creator_projects_backed     17751 non-null int64\n",
      "videos                      17751 non-null int64\n",
      "images                      17751 non-null int64\n",
      "description_words           17751 non-null int64\n",
      "r_c_words                   17751 non-null int64\n",
      "top_category_Art            17751 non-null uint8\n",
      "top_category_Comics         17751 non-null uint8\n",
      "top_category_Crafts         17751 non-null uint8\n",
      "top_category_Dance          17751 non-null uint8\n",
      "top_category_Design         17751 non-null uint8\n",
      "top_category_Fashion        17751 non-null uint8\n",
      "top_category_Film           17751 non-null uint8\n",
      "top_category_Food           17751 non-null uint8\n",
      "top_category_Games          17751 non-null uint8\n",
      "top_category_Journalism     17751 non-null uint8\n",
      "top_category_Music          17751 non-null uint8\n",
      "top_category_Photography    17751 non-null uint8\n",
      "top_category_Publishing     17751 non-null uint8\n",
      "top_category_Technology     17751 non-null uint8\n",
      "top_category_Theater        17751 non-null uint8\n",
      "dtypes: float64(1), int64(15), uint8(15)\n",
      "memory usage: 2.4 MB\n"
     ]
    }
   ],
   "source": [
    "features_2 = features.drop(['pledged_percent1', 'pledged_percent2', 'pledged_percent3', 'backers1', 'backers2', 'backers3'], axis=1)\n",
    "features_2.info()"
   ]
  },
  {
   "cell_type": "code",
   "execution_count": 78,
   "metadata": {
    "collapsed": true
   },
   "outputs": [],
   "source": [
    "X = features_2.drop(['result'], 1)\n",
    "y = features_2['result']\n",
    "\n",
    "X_train, X_test, y_train, y_test = train_test_split(X, y, test_size=0.3, random_state=0)"
   ]
  },
  {
   "cell_type": "code",
   "execution_count": 79,
   "metadata": {},
   "outputs": [
    {
     "name": "stdout",
     "output_type": "stream",
     "text": [
      "\n",
      " Accuracy by success\n",
      "result     0     1\n",
      "row_0             \n",
      "0       2114   589\n",
      "1        572  2051\n",
      "\n",
      " Percentage accuracy\n",
      "0.7820127675553886\n"
     ]
    }
   ],
   "source": [
    "# Logistic Regression\n",
    "lr = LogisticRegression(penalty='l2', solver='liblinear')\n",
    "\n",
    "# Fit the model.\n",
    "lr_fit = lr.fit(X_train, y_train)\n",
    "\n",
    "lr_test_y_score = lr_fit.decision_function(X_test)\n",
    "lr_prediction = lr_fit.predict(X_test)\n",
    "\n",
    "# Compute ROC curve and ROC area for each class\n",
    "lr_fpr, lr_tpr, threshold = roc_curve(y_test, lr_test_y_score)  ###计算真正率和假正率\n",
    "lr_roc_auc = auc(lr_fpr, lr_tpr)  ###计算auc的值\n",
    "#print(roc_auc)\n",
    "\n",
    "pred_y_sklearn = lr.predict(X_test)\n",
    "\n",
    "print('\\n Accuracy by success')\n",
    "print(pd.crosstab(pred_y_sklearn, y_test))\n",
    "\n",
    "print('\\n Percentage accuracy')\n",
    "print(lr.score(X_test, y_test))"
   ]
  },
  {
   "cell_type": "code",
   "execution_count": 80,
   "metadata": {},
   "outputs": [
    {
     "data": {
      "text/plain": [
       "81.94"
      ]
     },
     "execution_count": 80,
     "metadata": {},
     "output_type": "execute_result"
    }
   ],
   "source": [
    "# Random Forest\n",
    "rfc = ensemble.RandomForestClassifier(n_jobs=-1, n_estimators=200)\n",
    "\n",
    "rfc.fit(X_train, y_train)\n",
    "\n",
    "rfc_test_y_score = rfc.predict_proba(X_test)\n",
    "rfc_prediction = rfc.predict(X_test)\n",
    "\n",
    "rf_fpr, rf_tpr, _ = roc_curve(y_test, rfc_test_y_score[:, 1])  ###计算真正率和假正率\n",
    "rf_roc_auc = auc(rf_fpr, rf_tpr)  ###计算auc的值\n",
    "#print(roc_auc)\n",
    "\n",
    "acc_rfc = round(rfc.score(X_test, y_test) *100, 2)\n",
    "acc_rfc"
   ]
  },
  {
   "cell_type": "code",
   "execution_count": 81,
   "metadata": {},
   "outputs": [
    {
     "data": {
      "text/plain": [
       "67.56"
      ]
     },
     "execution_count": 81,
     "metadata": {},
     "output_type": "execute_result"
    }
   ],
   "source": [
    "#kNN\n",
    "from sklearn.neighbors import KNeighborsClassifier\n",
    "\n",
    "knn = KNeighborsClassifier(n_neighbors=3, n_jobs=-1)\n",
    "knn.fit(X_train, y_train)\n",
    "\n",
    "knn_test_y_score = knn.predict_proba(X_test)\n",
    "knn_prediction = knn.predict(X_test)\n",
    "\n",
    "knn_fpr, knn_tpr, _ = roc_curve(y_test, knn_test_y_score[:, 1])  ###计算真正率和假正率\n",
    "knn_roc_auc = auc(knn_fpr, knn_tpr)  ###计算auc的值\n",
    "#print(roc_auc)\n",
    "\n",
    "acc_knn = round(knn.score(X_test, y_test) *100, 2)\n",
    "acc_knn"
   ]
  },
  {
   "cell_type": "code",
   "execution_count": 82,
   "metadata": {},
   "outputs": [
    {
     "data": {
      "text/plain": [
       "81.96"
      ]
     },
     "execution_count": 82,
     "metadata": {},
     "output_type": "execute_result"
    }
   ],
   "source": [
    "#Gradient Boosting Classifier\n",
    "clf_gb = GradientBoostingClassifier(n_estimators=500, \n",
    "                                 max_depth=1, \n",
    "                                 random_state=0)\n",
    "clf_gb.fit(X_train, y_train)\n",
    "\n",
    "gbdt_test_y_score = clf_gb.predict_proba(X_test)\n",
    "gbdt_prediction = clf_gb.predict(X_test)\n",
    "\n",
    "gbdt_fpr, gbdt_tpr, _ = roc_curve(y_test, gbdt_test_y_score[:, 1])  ###计算真正率和假正率\n",
    "gbdt_roc_auc = auc(gbdt_fpr, gbdt_tpr)  ###计算auc的值\n",
    "#print(roc_auc)\n",
    "\n",
    "acc_clf_gb = round(clf_gb.score(X_test, y_test) * 100, 2)\n",
    "acc_clf_gb"
   ]
  },
  {
   "cell_type": "markdown",
   "metadata": {},
   "source": [
    "## 3. with category data & dynamic data"
   ]
  },
  {
   "cell_type": "code",
   "execution_count": 59,
   "metadata": {
    "collapsed": true
   },
   "outputs": [],
   "source": [
    "features_4 = features"
   ]
  },
  {
   "cell_type": "code",
   "execution_count": 60,
   "metadata": {
    "collapsed": true
   },
   "outputs": [],
   "source": [
    "X = features_4.drop(['result'], 1)\n",
    "y = features_4['result']\n",
    "\n",
    "X_train, X_test, y_train, y_test = train_test_split(X, y, test_size=0.33, random_state=0)"
   ]
  },
  {
   "cell_type": "code",
   "execution_count": 69,
   "metadata": {},
   "outputs": [
    {
     "name": "stdout",
     "output_type": "stream",
     "text": [
      "\n",
      " Accuracy by success\n",
      "result     0     1\n",
      "row_0             \n",
      "0       2668   552\n",
      "1        273  2365\n",
      "\n",
      " Percentage accuracy\n",
      "0.8591669511778764\n"
     ]
    }
   ],
   "source": [
    "# Logistic Regression\n",
    "lr = LogisticRegression(penalty='l2', solver='liblinear')\n",
    "\n",
    "# Fit the model.\n",
    "lr_fit = lr.fit(X_train, y_train)\n",
    "\n",
    "lr_test_y_score = lr_fit.decision_function(X_test)\n",
    "lr_prediction = lr_fit.predict(X_test)\n",
    "\n",
    "# Compute ROC curve and ROC area for each class\n",
    "lr_fpr, lr_tpr, threshold = roc_curve(y_test, lr_test_y_score)  ###计算真正率和假正率\n",
    "lr_roc_auc = auc(lr_fpr, lr_tpr)  ###计算auc的值\n",
    "#print(roc_auc)\n",
    "\n",
    "pred_y_sklearn = lr.predict(X_test)\n",
    "\n",
    "print('\\n Accuracy by success')\n",
    "print(pd.crosstab(pred_y_sklearn, y_test))\n",
    "\n",
    "print('\\n Percentage accuracy')\n",
    "print(lr.score(X_test, y_test))"
   ]
  },
  {
   "cell_type": "code",
   "execution_count": 75,
   "metadata": {},
   "outputs": [
    {
     "data": {
      "text/plain": [
       "88.22"
      ]
     },
     "execution_count": 75,
     "metadata": {},
     "output_type": "execute_result"
    }
   ],
   "source": [
    "# Random Forest\n",
    "rfc = ensemble.RandomForestClassifier(n_jobs=-1, n_estimators=200)\n",
    "\n",
    "rfc.fit(X_train, y_train)\n",
    "\n",
    "rfc_test_y_score = rfc.predict_proba(X_test)\n",
    "rfc_prediction = rfc.predict(X_test)\n",
    "\n",
    "rf_fpr, rf_tpr, _ = roc_curve(y_test, rfc_test_y_score[:, 1])  ###计算真正率和假正率\n",
    "rf_roc_auc = auc(rf_fpr, rf_tpr)  ###计算auc的值\n",
    "#print(roc_auc)\n",
    "\n",
    "acc_rfc = round(rfc.score(X_test, y_test) *100, 2)\n",
    "acc_rfc"
   ]
  },
  {
   "cell_type": "code",
   "execution_count": 71,
   "metadata": {},
   "outputs": [
    {
     "data": {
      "text/plain": [
       "69.96"
      ]
     },
     "execution_count": 71,
     "metadata": {},
     "output_type": "execute_result"
    }
   ],
   "source": [
    "#kNN\n",
    "from sklearn.neighbors import KNeighborsClassifier\n",
    "\n",
    "knn = KNeighborsClassifier(n_neighbors=3, n_jobs=-1)\n",
    "knn.fit(X_train, y_train)\n",
    "\n",
    "knn_test_y_score = knn.predict_proba(X_test)\n",
    "knn_prediction = knn.predict(X_test)\n",
    "\n",
    "knn_fpr, knn_tpr, _ = roc_curve(y_test, knn_test_y_score[:, 1])  ###计算真正率和假正率\n",
    "knn_roc_auc = auc(knn_fpr, knn_tpr)  ###计算auc的值\n",
    "#print(roc_auc)\n",
    "\n",
    "acc_knn = round(knn.score(X_test, y_test) *100, 2)\n",
    "acc_knn"
   ]
  },
  {
   "cell_type": "code",
   "execution_count": 72,
   "metadata": {},
   "outputs": [
    {
     "data": {
      "text/plain": [
       "88.14"
      ]
     },
     "execution_count": 72,
     "metadata": {},
     "output_type": "execute_result"
    }
   ],
   "source": [
    "#Gradient Boosting Classifier\n",
    "clf_gb = GradientBoostingClassifier(n_estimators=500, \n",
    "                                 max_depth=1, \n",
    "                                 random_state=0)\n",
    "clf_gb.fit(X_train, y_train)\n",
    "\n",
    "gbdt_test_y_score = clf_gb.predict_proba(X_test)\n",
    "gbdt_prediction = clf_gb.predict(X_test)\n",
    "\n",
    "gbdt_fpr, gbdt_tpr, _ = roc_curve(y_test, gbdt_test_y_score[:, 1])  ###计算真正率和假正率\n",
    "gbdt_roc_auc = auc(gbdt_fpr, gbdt_tpr)  ###计算auc的值\n",
    "#print(roc_auc)\n",
    "\n",
    "acc_clf_gb = round(clf_gb.score(X_test, y_test) * 100, 2)\n",
    "acc_clf_gb"
   ]
  },
  {
   "cell_type": "code",
   "execution_count": 83,
   "metadata": {},
   "outputs": [
    {
     "data": {
      "image/png": "[encoded data removed]",
      "text/plain": [
       "<matplotlib.figure.Figure at 0x1a1cfcb208>"
      ]
     },
     "metadata": {},
     "output_type": "display_data"
    }
   ],
   "source": [
    "lw = 2\n",
    "plt.figure(figsize=(8, 5))\n",
    "plt.plot(lr_fpr, lr_tpr, color='darkorange',\n",
    "         lw=1, label='LR ROC curve (area = %0.2f)' % lr_roc_auc)  \n",
    "plt.plot(knn_fpr, knn_tpr, color='blue',\n",
    "         lw=1, label='kNN ROC curve (area = %0.2f)' % knn_roc_auc)  \n",
    "plt.plot(rf_fpr, rf_tpr, color='red',\n",
    "         lw=1, label='RF ROC curve (area = %0.2f)' % rf_roc_auc)  \n",
    "plt.plot(gbdt_fpr, gbdt_tpr, color='green',\n",
    "         lw=1, label='GBDT ROC curve (area = %0.2f)' % gbdt_roc_auc)  \n",
    "plt.plot([0, 1], [0, 1], color='navy', lw=lw, linestyle='--')###假正率为横坐标，真正率为纵坐标做曲线\n",
    "plt.xlim([0.0, 1.0])\n",
    "plt.ylim([0.0, 1.05])\n",
    "plt.xlabel('False Positive Rate')\n",
    "plt.ylabel('True Positive Rate')\n",
    "plt.title('Receiver operating characteristic example')\n",
    "plt.legend(loc=\"lower right\")\n",
    "plt.show()"
   ]
  },
  {
   "cell_type": "code",
   "execution_count": null,
   "metadata": {
    "collapsed": true
   },
   "outputs": [],
   "source": []
  }
 ],
 "metadata": {
  "kernelspec": {
   "display_name": "Python 3",
   "language": "python",
   "name": "python3"
  },
  "language_info": {
   "codemirror_mode": {
    "name": "ipython",
    "version": 3
   },
   "file_extension": ".py",
   "mimetype": "text/x-python",
   "name": "python",
   "nbconvert_exporter": "python",
   "pygments_lexer": "ipython3",
   "version": "3.6.3"
  }
 },
 "nbformat": 4,
 "nbformat_minor": 2
}
